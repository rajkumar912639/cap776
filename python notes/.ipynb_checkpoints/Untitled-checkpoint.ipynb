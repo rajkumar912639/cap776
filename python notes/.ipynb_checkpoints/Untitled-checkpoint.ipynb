{
 "cells": [
  {
   "cell_type": "code",
   "execution_count": 6,
   "id": "fc791d79",
   "metadata": {},
   "outputs": [
    {
     "ename": "SyntaxError",
     "evalue": "invalid non-printable character U+00A0 (371333668.py, line 2)",
     "output_type": "error",
     "traceback": [
      "\u001b[1;36m  Cell \u001b[1;32mIn [6], line 2\u001b[1;36m\u001b[0m\n\u001b[1;33m    arr = np.empty((3,2), dtype = int)\u001b[0m\n\u001b[1;37m       ^\u001b[0m\n\u001b[1;31mSyntaxError\u001b[0m\u001b[1;31m:\u001b[0m invalid non-printable character U+00A0\n"
     ]
    }
   ],
   "source": [
    "import numpy as np\n",
    "arr = np.empty((3,2), dtype = int)  \n",
    "print(arr)  \n"
   ]
  },
  {
   "cell_type": "code",
   "execution_count": 8,
   "id": "8cb3fd52",
   "metadata": {},
   "outputs": [
    {
     "name": "stdout",
     "output_type": "stream",
     "text": [
      "<class 'numpy.ndarray'>\n",
      "[  3   4   5   6  45  76  45  78 554  78]\n",
      "45\n"
     ]
    }
   ],
   "source": [
    "import numpy as np\n",
    "l=[3,4,5,6,45,76,45,78,554,78]\n",
    "a=np.asarray(l)\n",
    "print(type(a))\n",
    "print(a)\n",
    "print(a[4])"
   ]
  },
  {
   "cell_type": "code",
   "execution_count": 9,
   "id": "592f29e4",
   "metadata": {},
   "outputs": [
    {
     "name": "stdout",
     "output_type": "stream",
     "text": [
      "<class 'numpy.ndarray'>\n",
      "[  3   4   5   6  45  76  45  78 554  78]\n",
      "45\n"
     ]
    }
   ],
   "source": [
    "import numpy as np\n",
    "l=(3,4,5,6,45,76,45,78,554,78)\n",
    "a=np.asarray(l)\n",
    "print(type(a))\n",
    "print(a)\n",
    "print(a[4])"
   ]
  },
  {
   "cell_type": "code",
   "execution_count": 10,
   "id": "95095f91",
   "metadata": {},
   "outputs": [
    {
     "ename": "SyntaxError",
     "evalue": "invalid non-printable character U+00A0 (4107228705.py, line 1)",
     "output_type": "error",
     "traceback": [
      "\u001b[1;36m  Cell \u001b[1;32mIn [10], line 1\u001b[1;36m\u001b[0m\n\u001b[1;33m    import numpy as np\u001b[0m\n\u001b[1;37m          ^\u001b[0m\n\u001b[1;31mSyntaxError\u001b[0m\u001b[1;31m:\u001b[0m invalid non-printable character U+00A0\n"
     ]
    }
   ],
   "source": [
    "import numpy as np  \n",
    "a = 10  \n",
    "b = 12  \n",
    "print(\"binary representation of a:\",bin(a))  \n",
    "print(\"binary representation of b:\",bin(b))  \n",
    "print(\"Bitwise  and of a and b: \",np.bitwise_and(a,b))  \n"
   ]
  },
  {
   "cell_type": "code",
   "execution_count": 11,
   "id": "8ae120b9",
   "metadata": {},
   "outputs": [
    {
     "ename": "SyntaxError",
     "evalue": "invalid syntax (2393532985.py, line 2)",
     "output_type": "error",
     "traceback": [
      "\u001b[1;36m  Cell \u001b[1;32mIn [11], line 2\u001b[1;36m\u001b[0m\n\u001b[1;33m    print np.char.multiply('Hello ‘,3)\u001b[0m\n\u001b[1;37m          ^\u001b[0m\n\u001b[1;31mSyntaxError\u001b[0m\u001b[1;31m:\u001b[0m invalid syntax\n"
     ]
    }
   ],
   "source": [
    "import numpy as np \n",
    "print np.char.multiply('Hello ‘,3)\n"
   ]
  },
  {
   "cell_type": "code",
   "execution_count": null,
   "id": "2d9e9f66",
   "metadata": {},
   "outputs": [],
   "source": []
  }
 ],
 "metadata": {
  "kernelspec": {
   "display_name": "Python 3 (ipykernel)",
   "language": "python",
   "name": "python3"
  },
  "language_info": {
   "codemirror_mode": {
    "name": "ipython",
    "version": 3
   },
   "file_extension": ".py",
   "mimetype": "text/x-python",
   "name": "python",
   "nbconvert_exporter": "python",
   "pygments_lexer": "ipython3",
   "version": "3.9.0"
  }
 },
 "nbformat": 4,
 "nbformat_minor": 5
}
