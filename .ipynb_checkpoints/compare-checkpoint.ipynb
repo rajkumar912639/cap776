{
 "cells": [
  {
   "cell_type": "code",
   "execution_count": 1,
   "id": "880e99aa",
   "metadata": {},
   "outputs": [
    {
     "name": "stdout",
     "output_type": "stream",
     "text": [
      "original array\n",
      "[1 2 3 4]\n",
      "Test if none  of the elements of the said array is Zero :\n",
      "True\n",
      "original array :\n",
      "[0 1 2 3]\n",
      " Test if none of the elements of the said array is Zero: \n",
      "False\n"
     ]
    }
   ],
   "source": [
    "import numpy as np\n",
    "x=np.array([1,2,3,4])\n",
    "print(\"original array\")\n",
    "print(x)\n",
    "print(\"Test if none  of the elements of the said array is Zero :\")\n",
    "print(np.all(x))\n",
    "x=np.array([0,1,2,3])\n",
    "print(\"original array :\")\n",
    "print(x)\n",
    "print(\" Test if none of the elements of the said array is Zero: \")\n",
    "print(np.all(x))"
   ]
  },
  {
   "cell_type": "code",
   "execution_count": null,
   "id": "639bfafe",
   "metadata": {},
   "outputs": [],
   "source": []
  }
 ],
 "metadata": {
  "kernelspec": {
   "display_name": "Python 3 (ipykernel)",
   "language": "python",
   "name": "python3"
  },
  "language_info": {
   "codemirror_mode": {
    "name": "ipython",
    "version": 3
   },
   "file_extension": ".py",
   "mimetype": "text/x-python",
   "name": "python",
   "nbconvert_exporter": "python",
   "pygments_lexer": "ipython3",
   "version": "3.9.0"
  }
 },
 "nbformat": 4,
 "nbformat_minor": 5
}
