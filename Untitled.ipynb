{
 "cells": [
  {
   "cell_type": "code",
   "execution_count": null,
   "id": "17d380c1",
   "metadata": {},
   "outputs": [],
   "source": [
    "import pandas as pd\n",
    "import numpy as np\n",
    "data=np.array([10,20,30,40])\n",
    "data2=[10,20,30,40]\n",
    "data3=(2,3,4,5)\n",
    "data4={'Naveen':23','Raj';29,'sahil':54}\n",
    "myseries=pd.Series(data)\n",
    "print(myseries)"
   ]
  },
  {
   "cell_type": "code",
   "execution_count": null,
   "id": "62e833d8",
   "metadata": {},
   "outputs": [],
   "source": []
  },
  {
   "cell_type": "code",
   "execution_count": null,
   "id": "382a3c69",
   "metadata": {},
   "outputs": [],
   "source": []
  }
 ],
 "metadata": {
  "kernelspec": {
   "display_name": "Python 3 (ipykernel)",
   "language": "python",
   "name": "python3"
  }
 },
 "nbformat": 4,
 "nbformat_minor": 5
}
